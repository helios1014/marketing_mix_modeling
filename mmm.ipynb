{
 "cells": [
  {
   "cell_type": "code",
   "execution_count": 2,
   "id": "64a10085",
   "metadata": {},
   "outputs": [],
   "source": [
    "import pandas as pd"
   ]
  },
  {
   "cell_type": "code",
   "execution_count": 9,
   "id": "d820dd45",
   "metadata": {},
   "outputs": [],
   "source": [
    "raw_df=pd.read_csv('mediamix_sales.csv')"
   ]
  },
  {
   "cell_type": "markdown",
   "id": "94266836",
   "metadata": {},
   "source": [
    "## Features\n",
    "### Demographic Information\n",
    "- CustomerID: Unique identifier for each customer.\n",
    "- Age: Age of the customer.\n",
    "- Gender: Gender of the customer (Male/Female).\n",
    "- Income: Annual income of the customer in USD.\n",
    "### Marketing-specific Variables\n",
    "- tv_sponsorships: \n",
    "- tv_cricket: \n",
    "- tv_RON: https://www.marketingterms.com/glossary/run-of-network-ron/#:~:text=Run%20of%20Network%20(RON)%20%2D,instead%20of%20an%20individual%20site.)\n",
    "- radio: \n",
    "- NPP: \n",
    "- radio: \n",
    "- Magazines: Confidential.\n",
    "- Customer Engagement Variables\n",
    "- WebsiteVisits: Number of visits to the website.\n",
    "- PagesPerVisit: Average number of pages visited per session.\n",
    "- TimeOnSite: Average time spent on the website per visit (in minutes).\n",
    "- SocialShares: Number of times the marketing content was shared on social media.\n",
    "- EmailOpens: Number of times marketing emails were opened.\n",
    "- EmailClicks: Number of times links in marketing emails were clicked.\n",
    "### Historical Data\n",
    "- PreviousPurchases: Number of previous purchases made by the customer.\n",
    "- LoyaltyPoints: Number of loyalty points accumulated by the customer.\n",
    "### Target Variable\n",
    "- Conversion: Binary variable indicating whether the customer converted (1) or not (0)."
   ]
  },
  {
   "cell_type": "code",
   "execution_count": 10,
   "id": "9d4f6c88",
   "metadata": {},
   "outputs": [
    {
     "data": {
      "text/html": [
       "<div>\n",
       "<style scoped>\n",
       "    .dataframe tbody tr th:only-of-type {\n",
       "        vertical-align: middle;\n",
       "    }\n",
       "\n",
       "    .dataframe tbody tr th {\n",
       "        vertical-align: top;\n",
       "    }\n",
       "\n",
       "    .dataframe thead th {\n",
       "        text-align: right;\n",
       "    }\n",
       "</style>\n",
       "<table border=\"1\" class=\"dataframe\">\n",
       "  <thead>\n",
       "    <tr style=\"text-align: right;\">\n",
       "      <th></th>\n",
       "      <th>Time</th>\n",
       "      <th>tv_sponsorships</th>\n",
       "      <th>tv_cricket</th>\n",
       "      <th>tv_RON</th>\n",
       "      <th>radio</th>\n",
       "      <th>NPP</th>\n",
       "      <th>Magazines</th>\n",
       "      <th>OOH</th>\n",
       "      <th>Social</th>\n",
       "      <th>Programmatic</th>\n",
       "      <th>Display_Rest</th>\n",
       "      <th>Search</th>\n",
       "      <th>Native</th>\n",
       "      <th>sales</th>\n",
       "    </tr>\n",
       "  </thead>\n",
       "  <tbody>\n",
       "    <tr>\n",
       "      <th>0</th>\n",
       "      <td>1/1/01</td>\n",
       "      <td>119.652</td>\n",
       "      <td>66.729</td>\n",
       "      <td>43.719</td>\n",
       "      <td>37.8</td>\n",
       "      <td>55.36</td>\n",
       "      <td>13.84</td>\n",
       "      <td>35</td>\n",
       "      <td>41.8782</td>\n",
       "      <td>5</td>\n",
       "      <td>33.50256</td>\n",
       "      <td>26.802048</td>\n",
       "      <td>5</td>\n",
       "      <td>22100</td>\n",
       "    </tr>\n",
       "    <tr>\n",
       "      <th>1</th>\n",
       "      <td>1/2/01</td>\n",
       "      <td>23.140</td>\n",
       "      <td>12.905</td>\n",
       "      <td>8.455</td>\n",
       "      <td>39.3</td>\n",
       "      <td>36.08</td>\n",
       "      <td>9.02</td>\n",
       "      <td>35</td>\n",
       "      <td>8.0990</td>\n",
       "      <td>5</td>\n",
       "      <td>6.47920</td>\n",
       "      <td>5.183360</td>\n",
       "      <td>6</td>\n",
       "      <td>10400</td>\n",
       "    </tr>\n",
       "    <tr>\n",
       "      <th>2</th>\n",
       "      <td>1/3/01</td>\n",
       "      <td>8.944</td>\n",
       "      <td>4.988</td>\n",
       "      <td>3.268</td>\n",
       "      <td>45.9</td>\n",
       "      <td>55.44</td>\n",
       "      <td>13.86</td>\n",
       "      <td>35</td>\n",
       "      <td>3.1304</td>\n",
       "      <td>5</td>\n",
       "      <td>2.50432</td>\n",
       "      <td>2.003456</td>\n",
       "      <td>7</td>\n",
       "      <td>9300</td>\n",
       "    </tr>\n",
       "    <tr>\n",
       "      <th>3</th>\n",
       "      <td>1/4/01</td>\n",
       "      <td>78.780</td>\n",
       "      <td>43.935</td>\n",
       "      <td>28.785</td>\n",
       "      <td>41.3</td>\n",
       "      <td>46.80</td>\n",
       "      <td>11.70</td>\n",
       "      <td>35</td>\n",
       "      <td>27.5730</td>\n",
       "      <td>5</td>\n",
       "      <td>22.05840</td>\n",
       "      <td>17.646720</td>\n",
       "      <td>5</td>\n",
       "      <td>18500</td>\n",
       "    </tr>\n",
       "    <tr>\n",
       "      <th>4</th>\n",
       "      <td>1/5/01</td>\n",
       "      <td>94.016</td>\n",
       "      <td>52.432</td>\n",
       "      <td>34.352</td>\n",
       "      <td>10.8</td>\n",
       "      <td>46.72</td>\n",
       "      <td>11.68</td>\n",
       "      <td>35</td>\n",
       "      <td>32.9056</td>\n",
       "      <td>5</td>\n",
       "      <td>26.32448</td>\n",
       "      <td>21.059584</td>\n",
       "      <td>7</td>\n",
       "      <td>12900</td>\n",
       "    </tr>\n",
       "  </tbody>\n",
       "</table>\n",
       "</div>"
      ],
      "text/plain": [
       "     Time  tv_sponsorships  tv_cricket  tv_RON  radio    NPP  Magazines  OOH  \\\n",
       "0  1/1/01          119.652      66.729  43.719   37.8  55.36      13.84   35   \n",
       "1  1/2/01           23.140      12.905   8.455   39.3  36.08       9.02   35   \n",
       "2  1/3/01            8.944       4.988   3.268   45.9  55.44      13.86   35   \n",
       "3  1/4/01           78.780      43.935  28.785   41.3  46.80      11.70   35   \n",
       "4  1/5/01           94.016      52.432  34.352   10.8  46.72      11.68   35   \n",
       "\n",
       "    Social  Programmatic  Display_Rest     Search  Native  sales  \n",
       "0  41.8782             5      33.50256  26.802048       5  22100  \n",
       "1   8.0990             5       6.47920   5.183360       6  10400  \n",
       "2   3.1304             5       2.50432   2.003456       7   9300  \n",
       "3  27.5730             5      22.05840  17.646720       5  18500  \n",
       "4  32.9056             5      26.32448  21.059584       7  12900  "
      ]
     },
     "execution_count": 10,
     "metadata": {},
     "output_type": "execute_result"
    }
   ],
   "source": [
    "raw_df.head()"
   ]
  },
  {
   "cell_type": "code",
   "execution_count": 8,
   "id": "e7f2e5d1",
   "metadata": {},
   "outputs": [
    {
     "data": {
      "text/plain": [
       "160000"
      ]
     },
     "execution_count": 8,
     "metadata": {},
     "output_type": "execute_result"
    }
   ],
   "source": [
    "raw_df.size"
   ]
  }
 ],
 "metadata": {
  "kernelspec": {
   "display_name": "python-3.12",
   "language": "python",
   "name": "python3"
  },
  "language_info": {
   "codemirror_mode": {
    "name": "ipython",
    "version": 3
   },
   "file_extension": ".py",
   "mimetype": "text/x-python",
   "name": "python",
   "nbconvert_exporter": "python",
   "pygments_lexer": "ipython3",
   "version": "3.12.3"
  }
 },
 "nbformat": 4,
 "nbformat_minor": 5
}
